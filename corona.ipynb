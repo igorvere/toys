{
  "nbformat": 4,
  "nbformat_minor": 0,
  "metadata": {
    "kernelspec": {
      "name": "python3",
      "display_name": "Python 3",
      "language": "python"
    },
    "language_info": {
      "name": "python",
      "version": "3.6.10",
      "mimetype": "text/x-python",
      "codemirror_mode": {
        "name": "ipython",
        "version": 3
      },
      "pygments_lexer": "ipython3",
      "nbconvert_exporter": "python",
      "file_extension": ".py"
    },
    "colab": {
      "name": "corona.ipynb",
      "provenance": []
    }
  },
  "cells": [
    {
      "cell_type": "markdown",
      "metadata": {
        "id": "wS9nk2Z2bFwv"
      },
      "source": [
        "# Welcome to Jupyter!"
      ]
    },
    {
      "cell_type": "markdown",
      "metadata": {
        "id": "-NXTVl64ilqT"
      },
      "source": [
        "\\begin{align}\n",
        "\\dot{n} & = -R\\gamma v n \\\\\n",
        "\\dot{v} & = R\\gamma v n - \\gamma v\\\\\n",
        "\\end{align}"
      ]
    },
    {
      "cell_type": "code",
      "metadata": {
        "trusted": true,
        "id": "HTHuxiSbbFwz"
      },
      "source": [
        "import numpy as np\n",
        "niter=1e2\n",
        "ndays = 365\n",
        "dt = ndays/niter\n",
        "n0=1.0# population\n",
        "v0=50e3/50e5 #infected population\n",
        "R = 2\n",
        "gamma=1.0/14#sickness length\n",
        "alpha=R*gamma\n",
        "\n",
        "\n",
        "niter=int(niter)\n",
        "\n",
        "\n",
        "v = np.zeros(niter)\n",
        "v[0] = v0\n",
        "n = np.zeros(niter)\n",
        "n[0] = n0\n",
        "\n",
        "for i in range(0, niter-1):\n",
        "    n[i+1] = n[i] - alpha * v[i] * n[i] * dt\n",
        "    v[i+1] = v[i] + alpha * v[i] * n[i] * dt - gamma * v[i] * dt\n",
        "\n"
      ],
      "execution_count": 20,
      "outputs": []
    },
    {
      "cell_type": "code",
      "metadata": {
        "id": "LKTautHxb4yk",
        "outputId": "19917ceb-f52b-47ea-eee4-41663004dc8e",
        "colab": {
          "base_uri": "https://localhost:8080/",
          "height": 282
        }
      },
      "source": [
        "import matplotlib.pyplot as plt\n",
        "tt = np.array(range(niter)) * dt\n",
        "plt.plot(tt, n)\n",
        "plt.plot(tt, v)\n",
        "plt.plot(tt, n0-v-n)\n",
        "plt.legend(['non infected', 'infected', 'immune'])\n"
      ],
      "execution_count": 21,
      "outputs": [
        {
          "output_type": "execute_result",
          "data": {
            "text/plain": [
              "<matplotlib.legend.Legend at 0x7f3bbd05ecf8>"
            ]
          },
          "metadata": {
            "tags": []
          },
          "execution_count": 21
        },
        {
          "output_type": "display_data",
          "data": {
            "image/png": "[encoded data removed]",
            "text/plain": [
              "<Figure size 432x288 with 1 Axes>"
            ]
          },
          "metadata": {
            "tags": [],
            "needs_background": "light"
          }
        }
      ]
    }
  ]
}