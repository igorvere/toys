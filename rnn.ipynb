{
  "nbformat": 4,
  "nbformat_minor": 0,
  "metadata": {
    "colab": {
      "name": "rnn.ipynb",
      "provenance": [],
      "authorship_tag": "ABX9TyMsfY2GJVIFrC3npcMbwpuf",
      "include_colab_link": true
    },
    "kernelspec": {
      "name": "python3",
      "display_name": "Python 3"
    },
    "accelerator": "GPU"
  },
  "cells": [
    {
      "cell_type": "markdown",
      "metadata": {
        "id": "view-in-github",
        "colab_type": "text"
      },
      "source": [
        "<a href=\"https://colab.research.google.com/github/igorvere/toys/blob/master/rnn.ipynb\" target=\"_parent\"><img src=\"https://colab.research.google.com/assets/colab-badge.svg\" alt=\"Open In Colab\"/></a>"
      ]
    },
    {
      "cell_type": "code",
      "metadata": {
        "id": "3oTx9EGbpazv",
        "outputId": "4afacba6-34c6-407b-db29-60afc1a18e84",
        "colab": {
          "base_uri": "https://localhost:8080/"
        }
      },
      "source": [
        "#!pip install --upgrade -q jax jaxlib\n",
        "\n",
        "# Colab runtime set to TPU accel\n",
        "import requests\n",
        "import os\n",
        "if 'TPU_DRIVER_MODE' not in globals():\n",
        "  url = 'http://' + os.environ['COLAB_TPU_ADDR'].split(':')[0] + ':8475/requestversion/tpu_driver_nightly'\n",
        "  resp = requests.post(url)\n",
        "  TPU_DRIVER_MODE = 1\n",
        "\n",
        "# TPU driver as backend for JAX\n",
        "from jax.config import config\n",
        "config.FLAGS.jax_xla_backend = \"tpu_driver\"\n",
        "config.FLAGS.jax_backend_target = \"grpc://\" + os.environ['COLAB_TPU_ADDR']\n",
        "print(config.FLAGS.jax_backend_target)\n"
      ],
      "execution_count": 1,
      "outputs": [
        {
          "output_type": "stream",
          "text": [
            "grpc://10.108.67.42:8470\n"
          ],
          "name": "stdout"
        }
      ]
    },
    {
      "cell_type": "code",
      "metadata": {
        "id": "7Kvrn4NasO9z",
        "outputId": "9c88c89a-f0dc-4f38-d4ef-db4e737e7642",
        "colab": {
          "base_uri": "https://localhost:8080/"
        }
      },
      "source": [
        "!pip install --upgrade -q jax jaxlib"
      ],
      "execution_count": 7,
      "outputs": [
        {
          "output_type": "stream",
          "text": [
            "\u001b[K     |████████████████████████████████| 491kB 12.4MB/s \n",
            "\u001b[K     |████████████████████████████████| 33.3MB 95kB/s \n",
            "\u001b[?25h  Building wheel for jax (setup.py) ... \u001b[?25l\u001b[?25hdone\n"
          ],
          "name": "stdout"
        }
      ]
    },
    {
      "cell_type": "code",
      "metadata": {
        "id": "tBm-LRWd6t83"
      },
      "source": [
        "import torch\n",
        "\n",
        "class RNN(torch.nn.Module):\n",
        "  def __init__(self, input_size):\n",
        "    super(RNN, self).__init__()\n",
        "    self.rnn = torch.nn.GRU(input_size, input_size, 1)\n",
        "    self.decoder = torch.nn.Linear(input_size, 1)\n",
        "\n",
        "  def forward(self, x, hidden):\n",
        "    h0  = hidden\n",
        "    fit, hidden = self.rnn(data, hidden)\n",
        "    fit = self.decoder(fit)\n",
        "    return fit, hidden"
      ],
      "execution_count": 8,
      "outputs": []
    },
    {
      "cell_type": "code",
      "metadata": {
        "id": "PkVGoT2H6p1p"
      },
      "source": [
        "hidden_size, batch_size = 64, 128\n",
        "seqlen = int(1e3)\n",
        "h0 =  torch.zeros(1, batch_size, hidden_size)\n",
        "data = torch.normal(0, 1, size=(seqlen, batch_size, hidden_size))\n",
        "target = torch.normal(0, 1, size=(seqlen, batch_size, 1))\n",
        "net = RNN(hidden_size)\n",
        "\n",
        "if torch.cuda.device_count() > 0:\n",
        "  net = net.cuda()\n",
        "  h0 = h0.cuda()\n",
        "  data = data.cuda()\n",
        "  target = target.cuda()"
      ],
      "execution_count": 9,
      "outputs": []
    },
    {
      "cell_type": "code",
      "metadata": {
        "id": "kcwJfnBJ_MMz",
        "outputId": "53ee6717-e8d5-44bd-cd4d-1ff611aa0358",
        "colab": {
          "base_uri": "https://localhost:8080/"
        }
      },
      "source": [
        "%%time\n",
        "for _ in range(10):\n",
        "  net.zero_grad()\n",
        "  fit, ht = net(data, h0)\n",
        "  loss = torch.sum((fit - target)**2)\n",
        "  loss.backward()"
      ],
      "execution_count": 10,
      "outputs": [
        {
          "output_type": "stream",
          "text": [
            "CPU times: user 412 ms, sys: 51.6 ms, total: 463 ms\n",
            "Wall time: 466 ms\n"
          ],
          "name": "stdout"
        }
      ]
    },
    {
      "cell_type": "code",
      "metadata": {
        "id": "_ovBsgJSAaDL"
      },
      "source": [
        ""
      ],
      "execution_count": 21,
      "outputs": []
    },
    {
      "cell_type": "code",
      "metadata": {
        "id": "c1XdGaT1pE35",
        "outputId": "16f55013-b994-47e6-a968-e6bcb0d90810",
        "colab": {
          "base_uri": "https://localhost:8080/"
        }
      },
      "source": [
        "from jax.nn import sigmoid\n",
        "from jax.nn.initializers import glorot_normal, normal\n",
        "\n",
        "from functools import partial\n",
        "from jax import lax\n",
        "from jax import device_put, devices\n",
        "\n",
        "def GRU(out_dim, W_init=glorot_normal(), b_init=normal()):\n",
        "    def init_fun(rng, input_shape):\n",
        "        \"\"\" Initialize the GRU layer for stax \"\"\"\n",
        "        #print('input_shape', input_shape)\n",
        "        hidden = b_init(rng, (input_shape[1], out_dim))\n",
        "\n",
        "        k1, k2, k3 = random.split(rng, num=3)\n",
        "        update_W, update_U, update_b = (\n",
        "            W_init(k1, (input_shape[2], out_dim)),\n",
        "            W_init(k2, (out_dim, out_dim)),\n",
        "            b_init(k3, (out_dim,)),)\n",
        "\n",
        "        k1, k2, k3 = random.split(rng, num=3)\n",
        "        reset_W, reset_U, reset_b = (\n",
        "            W_init(k1, (input_shape[2], out_dim)),\n",
        "            W_init(k2, (out_dim, out_dim)),\n",
        "            b_init(k3, (out_dim,)),)\n",
        "\n",
        "        k1, k2, k3 = random.split(rng, num=3)\n",
        "        out_W, out_U, out_b = (\n",
        "            W_init(k1, (input_shape[2], out_dim)),\n",
        "            W_init(k2, (out_dim, out_dim)),\n",
        "            b_init(k3, (out_dim,)),)\n",
        "        # Input dim 0 represents the batch dimension\n",
        "        # Input dim 1 represents the time dimension (before scan moveaxis)\n",
        "        output_shape = (input_shape[0], input_shape[1], out_dim)\n",
        "        return (output_shape,\n",
        "            (hidden,\n",
        "             (update_W, update_U, update_b),\n",
        "             (reset_W, reset_U, reset_b),\n",
        "             (out_W, out_U, out_b),),)\n",
        "\n",
        "    def apply_fun(params, inputs, **kwargs):\n",
        "        \"\"\" Loop over the time steps of the input sequence \"\"\"\n",
        "        h = params[0]\n",
        "\n",
        "        def apply_fun_scan(params, hidden, inp):\n",
        "            \"\"\" Perform single step update of the network \"\"\"\n",
        "            _, (update_W, update_U, update_b), (reset_W, reset_U, reset_b), (\n",
        "                out_W, out_U, out_b) = params\n",
        "\n",
        "            update_gate = sigmoid(np.dot(inp, update_W) +\n",
        "                                  np.dot(hidden, update_U) + update_b)\n",
        "            reset_gate = sigmoid(np.dot(inp, reset_W) +\n",
        "                                 np.dot(hidden, reset_U) + reset_b)\n",
        "            output_gate = np.tanh(np.dot(inp, out_W)\n",
        "                                  + np.dot(np.multiply(reset_gate, hidden), out_U)\n",
        "                                  + out_b)\n",
        "            output = np.multiply(update_gate, hidden) + np.multiply(1-update_gate, output_gate)\n",
        "            hidden = output\n",
        "            return hidden, hidden\n",
        "\n",
        "        # Move the time dimension to position 0\n",
        "        #nputs = np.moveaxis(inputs, 1, 0)\n",
        "        f = partial(apply_fun_scan, params)\n",
        "        _, h_new = lax.scan(f, h, inputs)\n",
        "        return h_new\n",
        "\n",
        "    return init_fun, apply_fun\n",
        "\n",
        "import jax.numpy as np\n",
        "from jax.experimental import stax\n",
        "from jax.experimental.stax import ( Dense, )\n",
        "\n",
        "from jax import random\n",
        "from jax import grad, jit, vmap, value_and_grad\n",
        "\n",
        "\n",
        "# Generate key which is used to generate random numbers\n",
        "key = random.PRNGKey(1)\n",
        "\n",
        "num_dims = hidden_size              # Number of OU timesteps\n",
        "num_hidden_units = hidden_size      # GRU cells in the RNN layer\n",
        "\n",
        "# Initialize the network and perform a forward pass\n",
        "init_fun, gru_rnn = stax.serial(GRU(num_hidden_units), Dense(1))\n",
        "\n",
        "_, params = init_fun(key, (1, batch_size, num_dims))\n",
        "\n",
        "def mse_loss(params, inputs, targets):\n",
        "    \"\"\" Calculate the Mean Squared Error Prediction Loss. \"\"\"\n",
        "    preds = gru_rnn(params, inputs)\n",
        "    return np.sum((preds - targets)**2)\n",
        "\n",
        "#@jit()\n",
        "def update(params, x, y):\n",
        "    \"\"\" Perform a forward pass, calculate the MSE & perform a SGD step. \"\"\"\n",
        "    loss, grads = value_and_grad(mse_loss)(params, x, y)\n",
        "    #opt_state = opt_update(0, grads, opt_state)\n",
        "    return loss, grads\n",
        "updatejit = jit(update, device=devices()[0])\n",
        "datajax = device_put(data.cpu().numpy(), device=devices()[0])\n",
        "targetjax = device_put(target.cpu().numpy(), device=devices()[0])\n",
        "import numpy as onp\n",
        "from jax import device_put\n",
        "\n",
        "#datacpu = onp.moveaxis(datacpu, 1, 0)\n",
        "#targetcpu = onp.moveaxis(targetcpu, 1, 0)\n",
        "\n",
        "\n",
        "%time loss, grads = updatejit(params, datajax, targetjax)"
      ],
      "execution_count": 11,
      "outputs": [
        {
          "output_type": "stream",
          "text": [
            "CPU times: user 723 ms, sys: 33.9 ms, total: 757 ms\n",
            "Wall time: 752 ms\n"
          ],
          "name": "stdout"
        }
      ]
    },
    {
      "cell_type": "code",
      "metadata": {
        "id": "n2HOAdvAxBFZ",
        "outputId": "00efac98-1fc7-4144-f771-f6c7699bbeb9",
        "colab": {
          "base_uri": "https://localhost:8080/"
        }
      },
      "source": [
        "%%time \n",
        "for i in range(10):\n",
        "  loss, grads = updatejit(params, datajax, targetjax)\n",
        "  loss.block_until_ready()  \n",
        "  grads[0][0].block_until_ready()  "
      ],
      "execution_count": 12,
      "outputs": [
        {
          "output_type": "stream",
          "text": [
            "CPU times: user 2.36 s, sys: 13 ms, total: 2.38 s\n",
            "Wall time: 2.37 s\n"
          ],
          "name": "stdout"
        }
      ]
    },
    {
      "cell_type": "code",
      "metadata": {
        "id": "AhipJx5V5lXr",
        "outputId": "786ca47c-7bca-45aa-fdae-3ce5c441c169",
        "colab": {
          "base_uri": "https://localhost:8080/"
        }
      },
      "source": [
        "import jax\n",
        "jax.devices()"
      ],
      "execution_count": 17,
      "outputs": [
        {
          "output_type": "execute_result",
          "data": {
            "text/plain": [
              "[CpuDevice(id=0)]"
            ]
          },
          "metadata": {
            "tags": []
          },
          "execution_count": 17
        }
      ]
    },
    {
      "cell_type": "code",
      "metadata": {
        "id": "MM2gev_Z6f22",
        "outputId": "b95b8668-58f5-47eb-dccc-08a1d2d95768",
        "colab": {
          "base_uri": "https://localhost:8080/"
        }
      },
      "source": [
        "jax.devices()[0]"
      ],
      "execution_count": 18,
      "outputs": [
        {
          "output_type": "execute_result",
          "data": {
            "text/plain": [
              "CpuDevice(id=0)"
            ]
          },
          "metadata": {
            "tags": []
          },
          "execution_count": 18
        }
      ]
    },
    {
      "cell_type": "code",
      "metadata": {
        "id": "RY9i6H3U6jjn"
      },
      "source": [
        ""
      ],
      "execution_count": null,
      "outputs": []
    }
  ]
}